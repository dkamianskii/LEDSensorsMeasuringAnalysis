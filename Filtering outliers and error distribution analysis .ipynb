{
 "cells": [
  {
   "cell_type": "code",
   "execution_count": 1,
   "metadata": {},
   "outputs": [],
   "source": [
    "import numpy as np\n",
    "import pandas as pd"
   ]
  },
  {
   "cell_type": "code",
   "execution_count": 55,
   "metadata": {},
   "outputs": [],
   "source": [
    "df_gases_1 = pd.read_pickle(\"./data_gases_1.pkl\")\n",
    "df_gases_2 = pd.read_pickle(\"./data_gases_2.pkl\")"
   ]
  },
  {
   "cell_type": "code",
   "execution_count": 3,
   "metadata": {},
   "outputs": [
    {
     "data": {
      "text/html": [
       "<div>\n",
       "<style scoped>\n",
       "    .dataframe tbody tr th:only-of-type {\n",
       "        vertical-align: middle;\n",
       "    }\n",
       "\n",
       "    .dataframe tbody tr th {\n",
       "        vertical-align: top;\n",
       "    }\n",
       "\n",
       "    .dataframe thead th {\n",
       "        text-align: right;\n",
       "    }\n",
       "</style>\n",
       "<table border=\"1\" class=\"dataframe\">\n",
       "  <thead>\n",
       "    <tr style=\"text-align: right;\">\n",
       "      <th></th>\n",
       "      <th>C</th>\n",
       "      <th>Um</th>\n",
       "      <th>Ur</th>\n",
       "      <th>Ud</th>\n",
       "      <th>C_target</th>\n",
       "    </tr>\n",
       "  </thead>\n",
       "  <tbody>\n",
       "    <tr>\n",
       "      <td>0</td>\n",
       "      <td>84.065575</td>\n",
       "      <td>0.70109</td>\n",
       "      <td>0.70087</td>\n",
       "      <td>0.77666</td>\n",
       "      <td>0.0</td>\n",
       "    </tr>\n",
       "  </tbody>\n",
       "</table>\n",
       "</div>"
      ],
      "text/plain": [
       "           C       Um       Ur       Ud  C_target\n",
       "0  84.065575  0.70109  0.70087  0.77666       0.0"
      ]
     },
     "execution_count": 3,
     "metadata": {},
     "output_type": "execute_result"
    }
   ],
   "source": [
    "df_gases_1.head(1)"
   ]
  },
  {
   "cell_type": "code",
   "execution_count": 7,
   "metadata": {},
   "outputs": [],
   "source": [
    "def get_left_right_border(df, border_param):\n",
    "    df_gases_grouped = df.groupby('C_target')\n",
    "    quar_1 = df_gases_grouped[border_param].quantile(0.25)\n",
    "    quar_3 = df_gases_grouped[border_param].quantile(0.75)\n",
    "    inter_quar = {perc: (quar_3.get(perc) - quar_1.get(perc)) for perc in quar_1.keys()} \n",
    "    left_right_border = {perc: (quar_1.get(perc) - 1.5*inter_quar.get(perc),\n",
    "                            quar_3.get(perc) + 1.5*inter_quar.get(perc)) for perc in quar_1.keys()}\n",
    "    return left_right_border"
   ]
  },
  {
   "cell_type": "code",
   "execution_count": 56,
   "metadata": {},
   "outputs": [],
   "source": [
    "left_right_border_gases_1 = get_left_right_border(df_gases_1, 'Um')\n",
    "left_right_border_gases_2 = get_left_right_border(df_gases_2, 'Um')"
   ]
  },
  {
   "cell_type": "code",
   "execution_count": 10,
   "metadata": {},
   "outputs": [],
   "source": [
    "def filter_outliers(df, left_right_border, border_param):\n",
    "    df_filtered = df.copy()\n",
    "    for target in left_right_border.keys():\n",
    "        df_filtered.drop(df_filtered[(df_filtered['C_target'] == target) &\n",
    "                                   ((df_filtered[border_param] < left_right_border.get(target)[0]) |\n",
    "                                    (df_filtered[border_param] > left_right_border.get(target)[1]))].index, inplace=True) \n",
    "    return df_filtered"
   ]
  },
  {
   "cell_type": "code",
   "execution_count": 57,
   "metadata": {},
   "outputs": [],
   "source": [
    "df_gases_1_filtered = filter_outliers(df_gases_1, left_right_border_gases_1, 'Um')\n",
    "df_gases_2_filtered = filter_outliers(df_gases_2, left_right_border_gases_2, 'Um')"
   ]
  },
  {
   "cell_type": "code",
   "execution_count": 42,
   "metadata": {},
   "outputs": [
    {
     "data": {
      "text/plain": [
       "2466"
      ]
     },
     "execution_count": 42,
     "metadata": {},
     "output_type": "execute_result"
    }
   ],
   "source": [
    "df_gases_1.shape[0]"
   ]
  },
  {
   "cell_type": "code",
   "execution_count": 44,
   "metadata": {},
   "outputs": [
    {
     "data": {
      "text/plain": [
       "2299"
      ]
     },
     "execution_count": 44,
     "metadata": {},
     "output_type": "execute_result"
    }
   ],
   "source": [
    "df_gases_2.shape[0]"
   ]
  },
  {
   "cell_type": "code",
   "execution_count": 41,
   "metadata": {},
   "outputs": [
    {
     "data": {
      "text/plain": [
       "7.948094079480941"
      ]
     },
     "execution_count": 41,
     "metadata": {},
     "output_type": "execute_result"
    }
   ],
   "source": [
    "(df_gases_1.shape[0] - df_gases_1_filtered.shape[0])*100/df_gases_1.shape[0]"
   ]
  },
  {
   "cell_type": "code",
   "execution_count": 43,
   "metadata": {
    "scrolled": false
   },
   "outputs": [
    {
     "data": {
      "text/plain": [
       "7.220530665506742"
      ]
     },
     "execution_count": 43,
     "metadata": {},
     "output_type": "execute_result"
    }
   ],
   "source": [
    "(df_gases_2.shape[0] - df_gases_2_filtered.shape[0])*100/df_gases_2.shape[0]"
   ]
  },
  {
   "cell_type": "code",
   "execution_count": 21,
   "metadata": {},
   "outputs": [],
   "source": [
    "zero_perc = df_gases_2_filtered.loc[df_gases_2_filtered['C_target'] == 0.0]"
   ]
  },
  {
   "cell_type": "code",
   "execution_count": 22,
   "metadata": {},
   "outputs": [
    {
     "data": {
      "text/html": [
       "<div>\n",
       "<style scoped>\n",
       "    .dataframe tbody tr th:only-of-type {\n",
       "        vertical-align: middle;\n",
       "    }\n",
       "\n",
       "    .dataframe tbody tr th {\n",
       "        vertical-align: top;\n",
       "    }\n",
       "\n",
       "    .dataframe thead th {\n",
       "        text-align: right;\n",
       "    }\n",
       "</style>\n",
       "<table border=\"1\" class=\"dataframe\">\n",
       "  <thead>\n",
       "    <tr style=\"text-align: right;\">\n",
       "      <th></th>\n",
       "      <th>C</th>\n",
       "      <th>Um</th>\n",
       "      <th>Ur</th>\n",
       "      <th>Ud</th>\n",
       "      <th>C_target</th>\n",
       "    </tr>\n",
       "  </thead>\n",
       "  <tbody>\n",
       "    <tr>\n",
       "      <td>count</td>\n",
       "      <td>1007.000000</td>\n",
       "      <td>1007.000000</td>\n",
       "      <td>1007.000000</td>\n",
       "      <td>1007.000000</td>\n",
       "      <td>1007.0</td>\n",
       "    </tr>\n",
       "    <tr>\n",
       "      <td>mean</td>\n",
       "      <td>-42.141300</td>\n",
       "      <td>0.696594</td>\n",
       "      <td>0.693141</td>\n",
       "      <td>0.775236</td>\n",
       "      <td>0.0</td>\n",
       "    </tr>\n",
       "    <tr>\n",
       "      <td>std</td>\n",
       "      <td>383.699927</td>\n",
       "      <td>0.002652</td>\n",
       "      <td>0.003715</td>\n",
       "      <td>0.000631</td>\n",
       "      <td>0.0</td>\n",
       "    </tr>\n",
       "    <tr>\n",
       "      <td>min</td>\n",
       "      <td>-503.683777</td>\n",
       "      <td>0.686650</td>\n",
       "      <td>0.686310</td>\n",
       "      <td>0.774200</td>\n",
       "      <td>0.0</td>\n",
       "    </tr>\n",
       "    <tr>\n",
       "      <td>25%</td>\n",
       "      <td>-178.866005</td>\n",
       "      <td>0.693660</td>\n",
       "      <td>0.688250</td>\n",
       "      <td>0.774420</td>\n",
       "      <td>0.0</td>\n",
       "    </tr>\n",
       "    <tr>\n",
       "      <td>50%</td>\n",
       "      <td>-98.838531</td>\n",
       "      <td>0.697550</td>\n",
       "      <td>0.694340</td>\n",
       "      <td>0.775370</td>\n",
       "      <td>0.0</td>\n",
       "    </tr>\n",
       "    <tr>\n",
       "      <td>75%</td>\n",
       "      <td>-19.778910</td>\n",
       "      <td>0.698120</td>\n",
       "      <td>0.695290</td>\n",
       "      <td>0.775660</td>\n",
       "      <td>0.0</td>\n",
       "    </tr>\n",
       "    <tr>\n",
       "      <td>max</td>\n",
       "      <td>3759.278076</td>\n",
       "      <td>0.702110</td>\n",
       "      <td>0.700860</td>\n",
       "      <td>0.776670</td>\n",
       "      <td>0.0</td>\n",
       "    </tr>\n",
       "  </tbody>\n",
       "</table>\n",
       "</div>"
      ],
      "text/plain": [
       "                 C           Um           Ur           Ud  C_target\n",
       "count  1007.000000  1007.000000  1007.000000  1007.000000    1007.0\n",
       "mean    -42.141300     0.696594     0.693141     0.775236       0.0\n",
       "std     383.699927     0.002652     0.003715     0.000631       0.0\n",
       "min    -503.683777     0.686650     0.686310     0.774200       0.0\n",
       "25%    -178.866005     0.693660     0.688250     0.774420       0.0\n",
       "50%     -98.838531     0.697550     0.694340     0.775370       0.0\n",
       "75%     -19.778910     0.698120     0.695290     0.775660       0.0\n",
       "max    3759.278076     0.702110     0.700860     0.776670       0.0"
      ]
     },
     "execution_count": 22,
     "metadata": {},
     "output_type": "execute_result"
    }
   ],
   "source": [
    "zero_perc.describe()"
   ]
  },
  {
   "cell_type": "code",
   "execution_count": 23,
   "metadata": {},
   "outputs": [],
   "source": [
    "from scipy import stats"
   ]
  },
  {
   "cell_type": "code",
   "execution_count": 25,
   "metadata": {
    "scrolled": true
   },
   "outputs": [
    {
     "data": {
      "text/plain": [
       "4.283597751299059e-250"
      ]
     },
     "execution_count": 25,
     "metadata": {},
     "output_type": "execute_result"
    }
   ],
   "source": [
    "k2, p = stats.normaltest(zero_perc['C'].to_numpy())\n",
    "p"
   ]
  },
  {
   "cell_type": "code",
   "execution_count": 26,
   "metadata": {},
   "outputs": [],
   "source": [
    "import seaborn as sns"
   ]
  },
  {
   "cell_type": "code",
   "execution_count": 27,
   "metadata": {},
   "outputs": [
    {
     "data": {
      "image/png": "[encoded data removed]",
      "text/plain": [
       "<Figure size 432x288 with 1 Axes>"
      ]
     },
     "metadata": {},
     "output_type": "display_data"
    }
   ],
   "source": [
    "sns.set()\n",
    "ax = sns.distplot(zero_perc['C'].to_numpy())"
   ]
  },
  {
   "cell_type": "code",
   "execution_count": 58,
   "metadata": {},
   "outputs": [],
   "source": [
    "df_gases_2_filtered_on_C = filter_outliers(df_gases_2, get_left_right_border(df_gases_2, 'C'), 'C')"
   ]
  },
  {
   "cell_type": "code",
   "execution_count": 48,
   "metadata": {},
   "outputs": [
    {
     "data": {
      "text/plain": [
       "11.43975641583297"
      ]
     },
     "execution_count": 48,
     "metadata": {},
     "output_type": "execute_result"
    }
   ],
   "source": [
    "(df_gases_2.shape[0] - df_gases_2_filtered_on_C.shape[0])*100/df_gases_2.shape[0]"
   ]
  },
  {
   "cell_type": "code",
   "execution_count": 31,
   "metadata": {
    "scrolled": true
   },
   "outputs": [
    {
     "data": {
      "text/html": [
       "<div>\n",
       "<style scoped>\n",
       "    .dataframe tbody tr th:only-of-type {\n",
       "        vertical-align: middle;\n",
       "    }\n",
       "\n",
       "    .dataframe tbody tr th {\n",
       "        vertical-align: top;\n",
       "    }\n",
       "\n",
       "    .dataframe thead th {\n",
       "        text-align: right;\n",
       "    }\n",
       "</style>\n",
       "<table border=\"1\" class=\"dataframe\">\n",
       "  <thead>\n",
       "    <tr style=\"text-align: right;\">\n",
       "      <th></th>\n",
       "      <th>C</th>\n",
       "      <th>Um</th>\n",
       "      <th>Ur</th>\n",
       "      <th>Ud</th>\n",
       "      <th>C_target</th>\n",
       "    </tr>\n",
       "  </thead>\n",
       "  <tbody>\n",
       "    <tr>\n",
       "      <td>count</td>\n",
       "      <td>944.000000</td>\n",
       "      <td>944.000000</td>\n",
       "      <td>944.000000</td>\n",
       "      <td>944.000000</td>\n",
       "      <td>944.0</td>\n",
       "    </tr>\n",
       "    <tr>\n",
       "      <td>mean</td>\n",
       "      <td>-110.472104</td>\n",
       "      <td>0.696840</td>\n",
       "      <td>0.693339</td>\n",
       "      <td>0.775264</td>\n",
       "      <td>0.0</td>\n",
       "    </tr>\n",
       "    <tr>\n",
       "      <td>std</td>\n",
       "      <td>119.465875</td>\n",
       "      <td>0.002306</td>\n",
       "      <td>0.003528</td>\n",
       "      <td>0.000607</td>\n",
       "      <td>0.0</td>\n",
       "    </tr>\n",
       "    <tr>\n",
       "      <td>min</td>\n",
       "      <td>-418.312286</td>\n",
       "      <td>0.691850</td>\n",
       "      <td>0.686990</td>\n",
       "      <td>0.774200</td>\n",
       "      <td>0.0</td>\n",
       "    </tr>\n",
       "    <tr>\n",
       "      <td>25%</td>\n",
       "      <td>-185.449272</td>\n",
       "      <td>0.696450</td>\n",
       "      <td>0.692847</td>\n",
       "      <td>0.775097</td>\n",
       "      <td>0.0</td>\n",
       "    </tr>\n",
       "    <tr>\n",
       "      <td>50%</td>\n",
       "      <td>-107.936333</td>\n",
       "      <td>0.697590</td>\n",
       "      <td>0.694390</td>\n",
       "      <td>0.775380</td>\n",
       "      <td>0.0</td>\n",
       "    </tr>\n",
       "    <tr>\n",
       "      <td>75%</td>\n",
       "      <td>-33.764821</td>\n",
       "      <td>0.698120</td>\n",
       "      <td>0.695290</td>\n",
       "      <td>0.775660</td>\n",
       "      <td>0.0</td>\n",
       "    </tr>\n",
       "    <tr>\n",
       "      <td>max</td>\n",
       "      <td>233.150726</td>\n",
       "      <td>0.702110</td>\n",
       "      <td>0.700860</td>\n",
       "      <td>0.776670</td>\n",
       "      <td>0.0</td>\n",
       "    </tr>\n",
       "  </tbody>\n",
       "</table>\n",
       "</div>"
      ],
      "text/plain": [
       "                C          Um          Ur          Ud  C_target\n",
       "count  944.000000  944.000000  944.000000  944.000000     944.0\n",
       "mean  -110.472104    0.696840    0.693339    0.775264       0.0\n",
       "std    119.465875    0.002306    0.003528    0.000607       0.0\n",
       "min   -418.312286    0.691850    0.686990    0.774200       0.0\n",
       "25%   -185.449272    0.696450    0.692847    0.775097       0.0\n",
       "50%   -107.936333    0.697590    0.694390    0.775380       0.0\n",
       "75%    -33.764821    0.698120    0.695290    0.775660       0.0\n",
       "max    233.150726    0.702110    0.700860    0.776670       0.0"
      ]
     },
     "execution_count": 31,
     "metadata": {},
     "output_type": "execute_result"
    }
   ],
   "source": [
    "zero_perc_on_C = df_gases_2_filtered_on_C.loc[df_gases_2_filtered_on_C['C_target'] == 0.0]\n",
    "zero_perc_on_C.describe()"
   ]
  },
  {
   "cell_type": "code",
   "execution_count": 32,
   "metadata": {},
   "outputs": [
    {
     "data": {
      "text/plain": [
       "0.5117262800024963"
      ]
     },
     "execution_count": 32,
     "metadata": {},
     "output_type": "execute_result"
    }
   ],
   "source": [
    "k2, p = stats.normaltest(zero_perc_on_C['C'].to_numpy())\n",
    "p"
   ]
  },
  {
   "cell_type": "code",
   "execution_count": 33,
   "metadata": {
    "scrolled": true
   },
   "outputs": [
    {
     "data": {
      "image/png": "[encoded data removed]",
      "text/plain": [
       "<Figure size 432x288 with 1 Axes>"
      ]
     },
     "metadata": {},
     "output_type": "display_data"
    }
   ],
   "source": [
    "sns.set()\n",
    "ax = sns.distplot(zero_perc_on_C['C'].to_numpy())"
   ]
  },
  {
   "cell_type": "code",
   "execution_count": 49,
   "metadata": {},
   "outputs": [],
   "source": [
    "df_all_night = pd.read_pickle(\"./data_all_night.pkl\")"
   ]
  },
  {
   "cell_type": "code",
   "execution_count": 53,
   "metadata": {},
   "outputs": [
    {
     "data": {
      "text/plain": [
       "(11326, 5)"
      ]
     },
     "execution_count": 53,
     "metadata": {},
     "output_type": "execute_result"
    }
   ],
   "source": [
    "df_all_night.shape"
   ]
  },
  {
   "cell_type": "code",
   "execution_count": 52,
   "metadata": {},
   "outputs": [
    {
     "data": {
      "text/plain": [
       "1.112674014495594e-283"
      ]
     },
     "execution_count": 52,
     "metadata": {},
     "output_type": "execute_result"
    }
   ],
   "source": [
    "k2, p = stats.normaltest(df_all_night['C'].to_numpy())\n",
    "p"
   ]
  },
  {
   "cell_type": "code",
   "execution_count": 51,
   "metadata": {
    "scrolled": false
   },
   "outputs": [
    {
     "data": {
      "image/png": "[encoded data removed]",
      "text/plain": [
       "<Figure size 432x288 with 1 Axes>"
      ]
     },
     "metadata": {},
     "output_type": "display_data"
    }
   ],
   "source": [
    "sns.set()\n",
    "ax = sns.distplot(df_all_night['C'].to_numpy())"
   ]
  },
  {
   "cell_type": "code",
   "execution_count": 59,
   "metadata": {},
   "outputs": [],
   "source": [
    "df_gases_1_filtered.to_pickle(f\"./data_gases_1_filtered.pkl\")\n",
    "df_gases_2_filtered_on_C.to_pickle(f\"./data_gases_2_filtered.pkl\")"
   ]
  }
 ],
 "metadata": {
  "kernelspec": {
   "display_name": "Python 3",
   "language": "python",
   "name": "python3"
  },
  "language_info": {
   "codemirror_mode": {
    "name": "ipython",
    "version": 3
   },
   "file_extension": ".py",
   "mimetype": "text/x-python",
   "name": "python",
   "nbconvert_exporter": "python",
   "pygments_lexer": "ipython3",
   "version": "3.7.4"
  }
 },
 "nbformat": 4,
 "nbformat_minor": 2
}
