{
 "cells": [
  {
   "cell_type": "code",
   "execution_count": 2,
   "metadata": {},
   "outputs": [],
   "source": [
    "import numpy as np\n",
    "import pandas as pd\n",
    "from scipy import stats"
   ]
  },
  {
   "cell_type": "code",
   "execution_count": 3,
   "metadata": {},
   "outputs": [],
   "source": [
    "    import warnings\n",
    "    warnings.filterwarnings('ignore')"
   ]
  },
  {
   "cell_type": "code",
   "execution_count": 7,
   "metadata": {},
   "outputs": [],
   "source": [
    "df_stitch_2 = pd.read_pickle(\"./data_stitch_2.pkl\")"
   ]
  },
  {
   "cell_type": "code",
   "execution_count": 8,
   "metadata": {},
   "outputs": [],
   "source": [
    "df_stitch_1 = pd.read_pickle(\"./data_stitch_1.pkl\")"
   ]
  },
  {
   "cell_type": "code",
   "execution_count": 9,
   "metadata": {},
   "outputs": [
    {
     "data": {
      "text/plain": [
       "(14449, 6)"
      ]
     },
     "execution_count": 9,
     "metadata": {},
     "output_type": "execute_result"
    }
   ],
   "source": [
    "df_stitch_2.shape"
   ]
  },
  {
   "cell_type": "code",
   "execution_count": 10,
   "metadata": {},
   "outputs": [
    {
     "data": {
      "text/plain": [
       "(1789, 6)"
      ]
     },
     "execution_count": 10,
     "metadata": {},
     "output_type": "execute_result"
    }
   ],
   "source": [
    "df_stitch_1.shape"
   ]
  },
  {
   "cell_type": "code",
   "execution_count": 11,
   "metadata": {
    "scrolled": true
   },
   "outputs": [
    {
     "data": {
      "text/html": [
       "<div>\n",
       "<style scoped>\n",
       "    .dataframe tbody tr th:only-of-type {\n",
       "        vertical-align: middle;\n",
       "    }\n",
       "\n",
       "    .dataframe tbody tr th {\n",
       "        vertical-align: top;\n",
       "    }\n",
       "\n",
       "    .dataframe thead th {\n",
       "        text-align: right;\n",
       "    }\n",
       "</style>\n",
       "<table border=\"1\" class=\"dataframe\">\n",
       "  <thead>\n",
       "    <tr style=\"text-align: right;\">\n",
       "      <th></th>\n",
       "      <th>t</th>\n",
       "      <th>Um</th>\n",
       "      <th>Ur</th>\n",
       "      <th>Ud</th>\n",
       "      <th>temperature</th>\n",
       "      <th>C_target</th>\n",
       "    </tr>\n",
       "  </thead>\n",
       "  <tbody>\n",
       "    <tr>\n",
       "      <td>0</td>\n",
       "      <td>108</td>\n",
       "      <td>0.70172</td>\n",
       "      <td>0.70287</td>\n",
       "      <td>0.77656</td>\n",
       "      <td>10</td>\n",
       "      <td>0.0</td>\n",
       "    </tr>\n",
       "    <tr>\n",
       "      <td>1</td>\n",
       "      <td>113</td>\n",
       "      <td>0.70175</td>\n",
       "      <td>0.70305</td>\n",
       "      <td>0.77649</td>\n",
       "      <td>10</td>\n",
       "      <td>0.0</td>\n",
       "    </tr>\n",
       "  </tbody>\n",
       "</table>\n",
       "</div>"
      ],
      "text/plain": [
       "     t       Um       Ur       Ud  temperature  C_target\n",
       "0  108  0.70172  0.70287  0.77656           10       0.0\n",
       "1  113  0.70175  0.70305  0.77649           10       0.0"
      ]
     },
     "execution_count": 11,
     "metadata": {},
     "output_type": "execute_result"
    }
   ],
   "source": [
    "df_stitch_2.head(2)"
   ]
  },
  {
   "cell_type": "code",
   "execution_count": 12,
   "metadata": {},
   "outputs": [
    {
     "data": {
      "text/html": [
       "<div>\n",
       "<style scoped>\n",
       "    .dataframe tbody tr th:only-of-type {\n",
       "        vertical-align: middle;\n",
       "    }\n",
       "\n",
       "    .dataframe tbody tr th {\n",
       "        vertical-align: top;\n",
       "    }\n",
       "\n",
       "    .dataframe thead th {\n",
       "        text-align: right;\n",
       "    }\n",
       "</style>\n",
       "<table border=\"1\" class=\"dataframe\">\n",
       "  <thead>\n",
       "    <tr style=\"text-align: right;\">\n",
       "      <th></th>\n",
       "      <th>Um</th>\n",
       "      <th>Ur</th>\n",
       "      <th>Ud</th>\n",
       "    </tr>\n",
       "  </thead>\n",
       "  <tbody>\n",
       "    <tr>\n",
       "      <td>Um</td>\n",
       "      <td>1.000000</td>\n",
       "      <td>0.999773</td>\n",
       "      <td>0.999752</td>\n",
       "    </tr>\n",
       "    <tr>\n",
       "      <td>Ur</td>\n",
       "      <td>0.999773</td>\n",
       "      <td>1.000000</td>\n",
       "      <td>0.999222</td>\n",
       "    </tr>\n",
       "    <tr>\n",
       "      <td>Ud</td>\n",
       "      <td>0.999752</td>\n",
       "      <td>0.999222</td>\n",
       "      <td>1.000000</td>\n",
       "    </tr>\n",
       "  </tbody>\n",
       "</table>\n",
       "</div>"
      ],
      "text/plain": [
       "          Um        Ur        Ud\n",
       "Um  1.000000  0.999773  0.999752\n",
       "Ur  0.999773  1.000000  0.999222\n",
       "Ud  0.999752  0.999222  1.000000"
      ]
     },
     "execution_count": 12,
     "metadata": {},
     "output_type": "execute_result"
    }
   ],
   "source": [
    "df_stitch_2[['Um','Ur','Ud']].corr()"
   ]
  },
  {
   "cell_type": "code",
   "execution_count": 13,
   "metadata": {},
   "outputs": [],
   "source": [
    "from sklearn.model_selection import train_test_split\n",
    "from sklearn.linear_model import LinearRegression\n",
    "from sklearn.model_selection import cross_val_score"
   ]
  },
  {
   "cell_type": "code",
   "execution_count": 14,
   "metadata": {},
   "outputs": [],
   "source": [
    "def set_features(dataframe):\n",
    "    features = dataframe[['Ur','Ud']]\n",
    "    features['Ur^2'] = features['Ur'].pow(2)\n",
    "    features['Ur^3'] = features['Ur'].pow(3)\n",
    "    features['Ud^2'] = features['Ud'].pow(2)\n",
    "    features['Ud^3'] = features['Ud'].pow(3)\n",
    "    return features"
   ]
  },
  {
   "cell_type": "code",
   "execution_count": 15,
   "metadata": {},
   "outputs": [
    {
     "data": {
      "text/html": [
       "<div>\n",
       "<style scoped>\n",
       "    .dataframe tbody tr th:only-of-type {\n",
       "        vertical-align: middle;\n",
       "    }\n",
       "\n",
       "    .dataframe tbody tr th {\n",
       "        vertical-align: top;\n",
       "    }\n",
       "\n",
       "    .dataframe thead th {\n",
       "        text-align: right;\n",
       "    }\n",
       "</style>\n",
       "<table border=\"1\" class=\"dataframe\">\n",
       "  <thead>\n",
       "    <tr style=\"text-align: right;\">\n",
       "      <th></th>\n",
       "      <th>Ur</th>\n",
       "      <th>Ud</th>\n",
       "      <th>Ur^2</th>\n",
       "      <th>Ur^3</th>\n",
       "      <th>Ud^2</th>\n",
       "      <th>Ud^3</th>\n",
       "    </tr>\n",
       "  </thead>\n",
       "  <tbody>\n",
       "    <tr>\n",
       "      <td>0</td>\n",
       "      <td>0.70287</td>\n",
       "      <td>0.77656</td>\n",
       "      <td>0.494026</td>\n",
       "      <td>0.347236</td>\n",
       "      <td>0.603045</td>\n",
       "      <td>0.468301</td>\n",
       "    </tr>\n",
       "  </tbody>\n",
       "</table>\n",
       "</div>"
      ],
      "text/plain": [
       "        Ur       Ud      Ur^2      Ur^3      Ud^2      Ud^3\n",
       "0  0.70287  0.77656  0.494026  0.347236  0.603045  0.468301"
      ]
     },
     "execution_count": 15,
     "metadata": {},
     "output_type": "execute_result"
    }
   ],
   "source": [
    "stitch_2_features = set_features(df_stitch_2)\n",
    "stitch_2_features.head(1)"
   ]
  },
  {
   "cell_type": "code",
   "execution_count": 16,
   "metadata": {},
   "outputs": [],
   "source": [
    "stitch_2_target = df_stitch_2['Um']"
   ]
  },
  {
   "cell_type": "code",
   "execution_count": 17,
   "metadata": {},
   "outputs": [
    {
     "name": "stdout",
     "output_type": "stream",
     "text": [
      "coefs = [ 1.52741178e-01 -1.19291251e+02 -8.68007242e-02  3.14086141e-01\n",
      "  1.82826412e+02 -9.02884032e+01]\n",
      "bias = 25.19465914959857\n",
      "R2 score = 0.9999796603701566\n"
     ]
    }
   ],
   "source": [
    "lin_reg = LinearRegression().fit(stitch_2_features, stitch_2_target)\n",
    "print(f'coefs = {lin_reg.coef_}')\n",
    "print(f'bias = {lin_reg.intercept_}')\n",
    "print(f'R2 score = {lin_reg.score(stitch_2_features, stitch_2_target)}')"
   ]
  },
  {
   "cell_type": "code",
   "execution_count": 18,
   "metadata": {},
   "outputs": [
    {
     "name": "stdout",
     "output_type": "stream",
     "text": [
      "optimal alpha = 1.0000000000000006e-06\n"
     ]
    }
   ],
   "source": [
    "from sklearn.linear_model import Lasso\n",
    "prev_R2 = 0.\n",
    "R2_score = 0.\n",
    "bias = 0.0000001\n",
    "coef = 1.\n",
    "while (R2_score >= prev_R2) and (bias < 1) and (bias > 0):\n",
    "    coef *= 0.1\n",
    "    lasso_reg_calibrate = Lasso(alpha=coef).fit(stitch_2_features, stitch_2_target)\n",
    "    bias = lasso_reg_calibrate.intercept_\n",
    "    prev_R2 = R2_score\n",
    "    R2_score = lasso_reg_calibrate.score(stitch_2_features, stitch_2_target)\n",
    "\n",
    "optimal_alpha = coef*10\n",
    "print(f'optimal alpha = {optimal_alpha}')"
   ]
  },
  {
   "cell_type": "code",
   "execution_count": 19,
   "metadata": {},
   "outputs": [
    {
     "name": "stdout",
     "output_type": "stream",
     "text": [
      "coefs = [ 0.76226938  0.         -0.00940744 -0.0342366   0.          0.        ]\n",
      "bias = 0.18325837139463358\n",
      "R2 score = 0.9998399724747122\n"
     ]
    }
   ],
   "source": [
    "lasso_reg = Lasso(alpha=optimal_alpha).fit(stitch_2_features, stitch_2_target)\n",
    "print(f'coefs = {lasso_reg.coef_}')\n",
    "print(f'bias = {lasso_reg.intercept_}')\n",
    "print(f'R2 score = {lasso_reg.score(stitch_2_features, stitch_2_target)}')"
   ]
  },
  {
   "cell_type": "code",
   "execution_count": 20,
   "metadata": {},
   "outputs": [],
   "source": [
    "stitch_1_features = set_features(df_stitch_1)"
   ]
  },
  {
   "cell_type": "code",
   "execution_count": 21,
   "metadata": {},
   "outputs": [
    {
     "name": "stdout",
     "output_type": "stream",
     "text": [
      "R2 score on test = 0.9998498222172715\n"
     ]
    }
   ],
   "source": [
    "df_stitch_1_target = df_stitch_1['Um']\n",
    "print(f'R2 score on test = {lasso_reg.score(stitch_1_features, df_stitch_1_target)}')"
   ]
  },
  {
   "cell_type": "code",
   "execution_count": 22,
   "metadata": {},
   "outputs": [],
   "source": [
    "correction_vector = lasso_reg.coef_\n",
    "def Um_correction(dataframe):\n",
    "    features = set_features(dataframe)\n",
    "    Um_corrected = dataframe['Um'] - np.dot(features.to_numpy(),np.transpose([correction_vector])).flatten()\n",
    "    return Um_corrected"
   ]
  },
  {
   "cell_type": "code",
   "execution_count": 23,
   "metadata": {
    "scrolled": true
   },
   "outputs": [
    {
     "data": {
      "text/html": [
       "<div>\n",
       "<style scoped>\n",
       "    .dataframe tbody tr th:only-of-type {\n",
       "        vertical-align: middle;\n",
       "    }\n",
       "\n",
       "    .dataframe tbody tr th {\n",
       "        vertical-align: top;\n",
       "    }\n",
       "\n",
       "    .dataframe thead th {\n",
       "        text-align: right;\n",
       "    }\n",
       "</style>\n",
       "<table border=\"1\" class=\"dataframe\">\n",
       "  <thead>\n",
       "    <tr style=\"text-align: right;\">\n",
       "      <th></th>\n",
       "      <th>Um original</th>\n",
       "      <th>Um_corrected</th>\n",
       "    </tr>\n",
       "  </thead>\n",
       "  <tbody>\n",
       "    <tr>\n",
       "      <td>0</td>\n",
       "      <td>0.70172</td>\n",
       "      <td>0.182479</td>\n",
       "    </tr>\n",
       "    <tr>\n",
       "      <td>1</td>\n",
       "      <td>0.70175</td>\n",
       "      <td>0.182384</td>\n",
       "    </tr>\n",
       "    <tr>\n",
       "      <td>2</td>\n",
       "      <td>0.70177</td>\n",
       "      <td>0.182446</td>\n",
       "    </tr>\n",
       "    <tr>\n",
       "      <td>3</td>\n",
       "      <td>0.70173</td>\n",
       "      <td>0.182196</td>\n",
       "    </tr>\n",
       "    <tr>\n",
       "      <td>4</td>\n",
       "      <td>0.70214</td>\n",
       "      <td>0.182746</td>\n",
       "    </tr>\n",
       "    <tr>\n",
       "      <td>...</td>\n",
       "      <td>...</td>\n",
       "      <td>...</td>\n",
       "    </tr>\n",
       "    <tr>\n",
       "      <td>14444</td>\n",
       "      <td>0.70094</td>\n",
       "      <td>0.182817</td>\n",
       "    </tr>\n",
       "    <tr>\n",
       "      <td>14445</td>\n",
       "      <td>0.70106</td>\n",
       "      <td>0.182846</td>\n",
       "    </tr>\n",
       "    <tr>\n",
       "      <td>14446</td>\n",
       "      <td>0.70090</td>\n",
       "      <td>0.182735</td>\n",
       "    </tr>\n",
       "    <tr>\n",
       "      <td>14447</td>\n",
       "      <td>0.70130</td>\n",
       "      <td>0.183177</td>\n",
       "    </tr>\n",
       "    <tr>\n",
       "      <td>14448</td>\n",
       "      <td>0.70109</td>\n",
       "      <td>0.182862</td>\n",
       "    </tr>\n",
       "  </tbody>\n",
       "</table>\n",
       "<p>14449 rows × 2 columns</p>\n",
       "</div>"
      ],
      "text/plain": [
       "       Um original  Um_corrected\n",
       "0          0.70172      0.182479\n",
       "1          0.70175      0.182384\n",
       "2          0.70177      0.182446\n",
       "3          0.70173      0.182196\n",
       "4          0.70214      0.182746\n",
       "...            ...           ...\n",
       "14444      0.70094      0.182817\n",
       "14445      0.70106      0.182846\n",
       "14446      0.70090      0.182735\n",
       "14447      0.70130      0.183177\n",
       "14448      0.70109      0.182862\n",
       "\n",
       "[14449 rows x 2 columns]"
      ]
     },
     "execution_count": 23,
     "metadata": {},
     "output_type": "execute_result"
    }
   ],
   "source": [
    "outlook = pd.DataFrame({'Um original': df_stitch_2['Um'],'Um_corrected': Um_correction(df_stitch_2)},\n",
    "                       columns = ['Um original','Um_corrected'])\n",
    "outlook"
   ]
  },
  {
   "cell_type": "code",
   "execution_count": 24,
   "metadata": {
    "scrolled": true
   },
   "outputs": [
    {
     "data": {
      "text/html": [
       "<div>\n",
       "<style scoped>\n",
       "    .dataframe tbody tr th:only-of-type {\n",
       "        vertical-align: middle;\n",
       "    }\n",
       "\n",
       "    .dataframe tbody tr th {\n",
       "        vertical-align: top;\n",
       "    }\n",
       "\n",
       "    .dataframe thead th {\n",
       "        text-align: right;\n",
       "    }\n",
       "</style>\n",
       "<table border=\"1\" class=\"dataframe\">\n",
       "  <thead>\n",
       "    <tr style=\"text-align: right;\">\n",
       "      <th></th>\n",
       "      <th>Um original</th>\n",
       "      <th>Um_corrected</th>\n",
       "    </tr>\n",
       "  </thead>\n",
       "  <tbody>\n",
       "    <tr>\n",
       "      <td>count</td>\n",
       "      <td>14449.000000</td>\n",
       "      <td>14449.000000</td>\n",
       "    </tr>\n",
       "    <tr>\n",
       "      <td>mean</td>\n",
       "      <td>0.655691</td>\n",
       "      <td>0.183258</td>\n",
       "    </tr>\n",
       "    <tr>\n",
       "      <td>std</td>\n",
       "      <td>0.066761</td>\n",
       "      <td>0.000845</td>\n",
       "    </tr>\n",
       "    <tr>\n",
       "      <td>min</td>\n",
       "      <td>0.501230</td>\n",
       "      <td>0.180434</td>\n",
       "    </tr>\n",
       "    <tr>\n",
       "      <td>25%</td>\n",
       "      <td>0.621650</td>\n",
       "      <td>0.182842</td>\n",
       "    </tr>\n",
       "    <tr>\n",
       "      <td>50%</td>\n",
       "      <td>0.678850</td>\n",
       "      <td>0.183121</td>\n",
       "    </tr>\n",
       "    <tr>\n",
       "      <td>75%</td>\n",
       "      <td>0.696260</td>\n",
       "      <td>0.183821</td>\n",
       "    </tr>\n",
       "    <tr>\n",
       "      <td>max</td>\n",
       "      <td>0.839030</td>\n",
       "      <td>0.187534</td>\n",
       "    </tr>\n",
       "  </tbody>\n",
       "</table>\n",
       "</div>"
      ],
      "text/plain": [
       "        Um original  Um_corrected\n",
       "count  14449.000000  14449.000000\n",
       "mean       0.655691      0.183258\n",
       "std        0.066761      0.000845\n",
       "min        0.501230      0.180434\n",
       "25%        0.621650      0.182842\n",
       "50%        0.678850      0.183121\n",
       "75%        0.696260      0.183821\n",
       "max        0.839030      0.187534"
      ]
     },
     "execution_count": 24,
     "metadata": {},
     "output_type": "execute_result"
    }
   ],
   "source": [
    "outlook.describe()"
   ]
  },
  {
   "cell_type": "code",
   "execution_count": 25,
   "metadata": {},
   "outputs": [],
   "source": [
    "df_gases_1 = pd.read_pickle(\"./data_gases_1_filtered.pkl\")\n",
    "df_gases_2 = pd.read_pickle(\"./data_gases_2_filtered.pkl\")"
   ]
  },
  {
   "cell_type": "code",
   "execution_count": 26,
   "metadata": {},
   "outputs": [
    {
     "name": "stdout",
     "output_type": "stream",
     "text": [
      "df_gases_1 size = 1012\n",
      "df_gases_2 size = 2036\n"
     ]
    }
   ],
   "source": [
    "print(f'df_gases_1 size = {df_gases_1.shape[0]}')\n",
    "print(f'df_gases_2 size = {df_gases_2.shape[0]}')"
   ]
  },
  {
   "cell_type": "code",
   "execution_count": 27,
   "metadata": {},
   "outputs": [
    {
     "data": {
      "text/html": [
       "<div>\n",
       "<style scoped>\n",
       "    .dataframe tbody tr th:only-of-type {\n",
       "        vertical-align: middle;\n",
       "    }\n",
       "\n",
       "    .dataframe tbody tr th {\n",
       "        vertical-align: top;\n",
       "    }\n",
       "\n",
       "    .dataframe thead th {\n",
       "        text-align: right;\n",
       "    }\n",
       "</style>\n",
       "<table border=\"1\" class=\"dataframe\">\n",
       "  <thead>\n",
       "    <tr style=\"text-align: right;\">\n",
       "      <th></th>\n",
       "      <th>t</th>\n",
       "      <th>C</th>\n",
       "      <th>Um</th>\n",
       "      <th>Ur</th>\n",
       "      <th>Ud</th>\n",
       "      <th>percentage</th>\n",
       "      <th>C_target</th>\n",
       "    </tr>\n",
       "  </thead>\n",
       "  <tbody>\n",
       "    <tr>\n",
       "      <td>0</td>\n",
       "      <td>1592</td>\n",
       "      <td>84.065575</td>\n",
       "      <td>0.70109</td>\n",
       "      <td>0.70087</td>\n",
       "      <td>0.77666</td>\n",
       "      <td>0.0</td>\n",
       "      <td>0.0</td>\n",
       "    </tr>\n",
       "  </tbody>\n",
       "</table>\n",
       "</div>"
      ],
      "text/plain": [
       "      t          C       Um       Ur       Ud  percentage  C_target\n",
       "0  1592  84.065575  0.70109  0.70087  0.77666         0.0       0.0"
      ]
     },
     "execution_count": 27,
     "metadata": {},
     "output_type": "execute_result"
    }
   ],
   "source": [
    "df_gases_1.head(1)"
   ]
  },
  {
   "cell_type": "code",
   "execution_count": 28,
   "metadata": {},
   "outputs": [
    {
     "data": {
      "text/plain": [
       "Index(['t', 'C', 'Um', 'Ur', 'Ud', 'percentage', 'C_target'], dtype='object')"
      ]
     },
     "execution_count": 28,
     "metadata": {},
     "output_type": "execute_result"
    }
   ],
   "source": [
    "df_gases_2.columns"
   ]
  },
  {
   "cell_type": "code",
   "execution_count": 29,
   "metadata": {},
   "outputs": [
    {
     "data": {
      "text/plain": [
       "(2233, 7)"
      ]
     },
     "execution_count": 29,
     "metadata": {},
     "output_type": "execute_result"
    }
   ],
   "source": [
    "df_gases_2_train, gases_test = train_test_split(df_gases_2, test_size=0.4, random_state=42)\n",
    "gases_train = pd.concat([df_gases_1, df_gases_2_train])\n",
    "gases_train.shape"
   ]
  },
  {
   "cell_type": "code",
   "execution_count": 30,
   "metadata": {},
   "outputs": [],
   "source": [
    "def create_nonelinear_features(feature, name: str):\n",
    "    features = pd.DataFrame({name: feature})\n",
    "    features[f'{name}^2'] = features[name].pow(2)\n",
    "    features[f'{name}^3'] = features[name].pow(3)\n",
    "    features[f'ln({name})'] = np.log(features[name])\n",
    "    return features"
   ]
  },
  {
   "cell_type": "code",
   "execution_count": 31,
   "metadata": {},
   "outputs": [
    {
     "data": {
      "text/plain": [
       "Index(['Um_corr', 'Um_corr^2', 'Um_corr^3', 'ln(Um_corr)'], dtype='object')"
      ]
     },
     "execution_count": 31,
     "metadata": {},
     "output_type": "execute_result"
    }
   ],
   "source": [
    "Um_corr = Um_correction(gases_train)\n",
    "gas_features = create_nonelinear_features(Um_corr, 'Um_corr')\n",
    "Um_corr = Um_corr.to_numpy().reshape(-1, 1)\n",
    "gas_features.columns"
   ]
  },
  {
   "cell_type": "code",
   "execution_count": 32,
   "metadata": {},
   "outputs": [],
   "source": [
    "C_target = gases_train['C_target']"
   ]
  },
  {
   "cell_type": "code",
   "execution_count": 33,
   "metadata": {},
   "outputs": [
    {
     "name": "stdout",
     "output_type": "stream",
     "text": [
      "linear model on Um_corr only\n",
      "coefs = [-1428958.1310235]\n",
      "R2 score = 0.9594593385344147\n",
      "\n",
      "\n",
      "Model on nonelinear Um_corr features\n",
      "coefs = [ 2.63469379e+09 -7.61613088e+09  9.81190461e+09 -1.52527366e+08]\n",
      "R2 score = 0.9984688428218556\n"
     ]
    }
   ],
   "source": [
    "lin_reg_Um = LinearRegression().fit(Um_corr, C_target)\n",
    "print('linear model on Um_corr only')\n",
    "print(f'coefs = {lin_reg_Um.coef_}')\n",
    "print(f'R2 score = {lin_reg_Um.score(Um_corr, C_target)}')\n",
    "print('\\n')\n",
    "lin_reg_features = LinearRegression().fit(gas_features, C_target)\n",
    "print('Model on nonelinear Um_corr features')\n",
    "print(f'coefs = {lin_reg_features.coef_}')\n",
    "print(f'R2 score = {lin_reg_features.score(gas_features, C_target)}')\n"
   ]
  },
  {
   "cell_type": "code",
   "execution_count": 34,
   "metadata": {},
   "outputs": [
    {
     "name": "stdout",
     "output_type": "stream",
     "text": [
      "selected alpha = 0.001\n",
      "coefs = [  842322.05212184  6407086.18175488 23365643.21733014 -1103183.73587719]\n",
      "R2 score = 0.9971029277296064\n"
     ]
    }
   ],
   "source": [
    "from sklearn.linear_model import LassoCV\n",
    "alphas = np.array([10**(-degree) for degree in range(0,7)])\n",
    "lasso_reg_features = LassoCV(alphas=alphas, random_state=42).fit(gas_features, C_target)\n",
    "print(f'selected alpha = {lasso_reg_features.alpha_}')\n",
    "print(f'coefs = {lasso_reg_features.coef_}')\n",
    "print(f'R2 score = {lasso_reg_features.score(gas_features, C_target)}')"
   ]
  },
  {
   "cell_type": "code",
   "execution_count": 35,
   "metadata": {},
   "outputs": [
    {
     "name": "stdout",
     "output_type": "stream",
     "text": [
      "only Um lineal model R2 score on test = 0.9611945185442383\n",
      "nonelineal features model R2 score on test = 0.9980241617938441\n"
     ]
    }
   ],
   "source": [
    "C_target_test = gases_test['C_target']\n",
    "Um_corr_test = Um_correction(gases_test)\n",
    "gas_features_test = create_nonelinear_features(Um_corr_test, 'Um_corr')\n",
    "Um_corr_test = Um_corr_test.to_numpy().reshape(-1, 1)\n",
    "\n",
    "lin_reg_Um_prediction = lin_reg_Um.predict(Um_corr_test)\n",
    "print(f'only Um lineal model R2 score on test = {lin_reg_Um.score(Um_corr_test, C_target_test)}')\n",
    "\n",
    "lasso_reg_features_prediction = lasso_reg_features.predict(gas_features_test)\n",
    "print(f'nonelineal features model R2 score on test = {lasso_reg_features.score(gas_features_test, C_target_test)}')"
   ]
  },
  {
   "cell_type": "code",
   "execution_count": 36,
   "metadata": {},
   "outputs": [
    {
     "data": {
      "text/plain": [
       "Index(['t', 'C', 'Um', 'Ur', 'Ud', 'percentage', 'C_target'], dtype='object')"
      ]
     },
     "execution_count": 36,
     "metadata": {},
     "output_type": "execute_result"
    }
   ],
   "source": [
    "gases_test.columns"
   ]
  },
  {
   "cell_type": "code",
   "execution_count": 37,
   "metadata": {
    "scrolled": true
   },
   "outputs": [
    {
     "data": {
      "text/html": [
       "<div>\n",
       "<style scoped>\n",
       "    .dataframe tbody tr th:only-of-type {\n",
       "        vertical-align: middle;\n",
       "    }\n",
       "\n",
       "    .dataframe tbody tr th {\n",
       "        vertical-align: top;\n",
       "    }\n",
       "\n",
       "    .dataframe thead th {\n",
       "        text-align: right;\n",
       "    }\n",
       "</style>\n",
       "<table border=\"1\" class=\"dataframe\">\n",
       "  <thead>\n",
       "    <tr style=\"text-align: right;\">\n",
       "      <th></th>\n",
       "      <th>C_original</th>\n",
       "      <th>C_pred_only_UM</th>\n",
       "      <th>C_pred_nonelinear</th>\n",
       "      <th>C_target</th>\n",
       "    </tr>\n",
       "  </thead>\n",
       "  <tbody>\n",
       "    <tr>\n",
       "      <td>238</td>\n",
       "      <td>-217.619904</td>\n",
       "      <td>-1909.311191</td>\n",
       "      <td>-126.052751</td>\n",
       "      <td>0.0</td>\n",
       "    </tr>\n",
       "    <tr>\n",
       "      <td>128</td>\n",
       "      <td>8.319479</td>\n",
       "      <td>-1268.214012</td>\n",
       "      <td>56.741115</td>\n",
       "      <td>0.0</td>\n",
       "    </tr>\n",
       "    <tr>\n",
       "      <td>532</td>\n",
       "      <td>-48.212215</td>\n",
       "      <td>-1488.560134</td>\n",
       "      <td>-7.700781</td>\n",
       "      <td>0.0</td>\n",
       "    </tr>\n",
       "    <tr>\n",
       "      <td>629</td>\n",
       "      <td>-219.135361</td>\n",
       "      <td>-1959.890014</td>\n",
       "      <td>-139.864771</td>\n",
       "      <td>0.0</td>\n",
       "    </tr>\n",
       "    <tr>\n",
       "      <td>1717</td>\n",
       "      <td>29089.167969</td>\n",
       "      <td>33025.922406</td>\n",
       "      <td>31304.428871</td>\n",
       "      <td>30000.0</td>\n",
       "    </tr>\n",
       "    <tr>\n",
       "      <td>1931</td>\n",
       "      <td>50245.789063</td>\n",
       "      <td>43166.709883</td>\n",
       "      <td>48978.986309</td>\n",
       "      <td>50000.0</td>\n",
       "    </tr>\n",
       "    <tr>\n",
       "      <td>1707</td>\n",
       "      <td>28909.958984</td>\n",
       "      <td>32911.317746</td>\n",
       "      <td>31127.510518</td>\n",
       "      <td>30000.0</td>\n",
       "    </tr>\n",
       "    <tr>\n",
       "      <td>1341</td>\n",
       "      <td>19662.826172</td>\n",
       "      <td>25804.853405</td>\n",
       "      <td>21133.216409</td>\n",
       "      <td>20000.0</td>\n",
       "    </tr>\n",
       "    <tr>\n",
       "      <td>1049</td>\n",
       "      <td>2082.421875</td>\n",
       "      <td>3103.269156</td>\n",
       "      <td>1686.210442</td>\n",
       "      <td>2000.0</td>\n",
       "    </tr>\n",
       "    <tr>\n",
       "      <td>1456</td>\n",
       "      <td>19809.912109</td>\n",
       "      <td>25953.962937</td>\n",
       "      <td>21323.342036</td>\n",
       "      <td>20000.0</td>\n",
       "    </tr>\n",
       "    <tr>\n",
       "      <td>2294</td>\n",
       "      <td>-124.971397</td>\n",
       "      <td>-1835.766989</td>\n",
       "      <td>-105.810429</td>\n",
       "      <td>0.0</td>\n",
       "    </tr>\n",
       "    <tr>\n",
       "      <td>2151</td>\n",
       "      <td>-248.104111</td>\n",
       "      <td>-2170.181819</td>\n",
       "      <td>-196.336145</td>\n",
       "      <td>0.0</td>\n",
       "    </tr>\n",
       "    <tr>\n",
       "      <td>1161</td>\n",
       "      <td>2183.698242</td>\n",
       "      <td>3261.789254</td>\n",
       "      <td>1757.898779</td>\n",
       "      <td>2000.0</td>\n",
       "    </tr>\n",
       "    <tr>\n",
       "      <td>79</td>\n",
       "      <td>221.529617</td>\n",
       "      <td>-660.845159</td>\n",
       "      <td>243.137726</td>\n",
       "      <td>0.0</td>\n",
       "    </tr>\n",
       "    <tr>\n",
       "      <td>813</td>\n",
       "      <td>161.425049</td>\n",
       "      <td>-922.340693</td>\n",
       "      <td>161.308982</td>\n",
       "      <td>500.0</td>\n",
       "    </tr>\n",
       "    <tr>\n",
       "      <td>1933</td>\n",
       "      <td>50351.515625</td>\n",
       "      <td>43199.882844</td>\n",
       "      <td>49043.445854</td>\n",
       "      <td>50000.0</td>\n",
       "    </tr>\n",
       "    <tr>\n",
       "      <td>1374</td>\n",
       "      <td>19944.962891</td>\n",
       "      <td>26065.060663</td>\n",
       "      <td>21465.541246</td>\n",
       "      <td>20000.0</td>\n",
       "    </tr>\n",
       "    <tr>\n",
       "      <td>2179</td>\n",
       "      <td>-296.169067</td>\n",
       "      <td>-2262.217326</td>\n",
       "      <td>-220.566964</td>\n",
       "      <td>0.0</td>\n",
       "    </tr>\n",
       "    <tr>\n",
       "      <td>2141</td>\n",
       "      <td>-223.687408</td>\n",
       "      <td>-2109.743073</td>\n",
       "      <td>-180.263667</td>\n",
       "      <td>0.0</td>\n",
       "    </tr>\n",
       "    <tr>\n",
       "      <td>146</td>\n",
       "      <td>-0.888428</td>\n",
       "      <td>-1293.985546</td>\n",
       "      <td>49.116627</td>\n",
       "      <td>0.0</td>\n",
       "    </tr>\n",
       "  </tbody>\n",
       "</table>\n",
       "</div>"
      ],
      "text/plain": [
       "        C_original  C_pred_only_UM  C_pred_nonelinear  C_target\n",
       "238    -217.619904    -1909.311191        -126.052751       0.0\n",
       "128       8.319479    -1268.214012          56.741115       0.0\n",
       "532     -48.212215    -1488.560134          -7.700781       0.0\n",
       "629    -219.135361    -1959.890014        -139.864771       0.0\n",
       "1717  29089.167969    33025.922406       31304.428871   30000.0\n",
       "1931  50245.789063    43166.709883       48978.986309   50000.0\n",
       "1707  28909.958984    32911.317746       31127.510518   30000.0\n",
       "1341  19662.826172    25804.853405       21133.216409   20000.0\n",
       "1049   2082.421875     3103.269156        1686.210442    2000.0\n",
       "1456  19809.912109    25953.962937       21323.342036   20000.0\n",
       "2294   -124.971397    -1835.766989        -105.810429       0.0\n",
       "2151   -248.104111    -2170.181819        -196.336145       0.0\n",
       "1161   2183.698242     3261.789254        1757.898779    2000.0\n",
       "79      221.529617     -660.845159         243.137726       0.0\n",
       "813     161.425049     -922.340693         161.308982     500.0\n",
       "1933  50351.515625    43199.882844       49043.445854   50000.0\n",
       "1374  19944.962891    26065.060663       21465.541246   20000.0\n",
       "2179   -296.169067    -2262.217326        -220.566964       0.0\n",
       "2141   -223.687408    -2109.743073        -180.263667       0.0\n",
       "146      -0.888428    -1293.985546          49.116627       0.0"
      ]
     },
     "execution_count": 37,
     "metadata": {},
     "output_type": "execute_result"
    }
   ],
   "source": [
    "overview_table = pd.DataFrame({'C_original': gases_test['C'], 'C_pred_only_UM': lin_reg_Um_prediction,\n",
    "                               'C_pred_nonelinear': lasso_reg_features_prediction, 'C_target': C_target_test},\n",
    "                             columns=['C_original', 'C_pred_only_UM', 'C_pred_nonelinear', 'C_target'])\n",
    "overview_table.head(20)"
   ]
  },
  {
   "cell_type": "code",
   "execution_count": 38,
   "metadata": {},
   "outputs": [
    {
     "data": {
      "text/plain": [
       "-110.4721044798729"
      ]
     },
     "execution_count": 38,
     "metadata": {},
     "output_type": "execute_result"
    }
   ],
   "source": [
    "error_bias = df_gases_2[df_gases_2['percentage'] == 0.0]['C'].mean()\n",
    "error_bias"
   ]
  },
  {
   "cell_type": "code",
   "execution_count": 39,
   "metadata": {},
   "outputs": [],
   "source": [
    "error_bias = df_gases_2[df_gases_2['percentage'] == 0.0]['C'].mean()\n",
    "C_unbiased = gases_test['C'] - error_bias"
   ]
  },
  {
   "cell_type": "code",
   "execution_count": 40,
   "metadata": {},
   "outputs": [
    {
     "name": "stdout",
     "output_type": "stream",
     "text": [
      "sensor_original_RMSE = 544.6193245422411\n",
      "C_unbiased_RMSE = 500.9429312760324\n",
      "lin_reg_Um_RMSE = 3431.2535468634483\n",
      "lasso_reg_features_RMSE = 774.2513338055619\n"
     ]
    }
   ],
   "source": [
    "from sklearn.metrics import mean_squared_error\n",
    "sensor_original_RMSE = np.sqrt(mean_squared_error(gases_test['C'], gases_test['C_target']))\n",
    "C_unbiased_RMSE = np.sqrt(mean_squared_error(C_unbiased, gases_test['C_target']))\n",
    "lin_reg_Um_RMSE = np.sqrt(mean_squared_error(lin_reg_Um_prediction, gases_test['C_target']))\n",
    "lasso_reg_features_RMSE = np.sqrt(mean_squared_error(lasso_reg_features_prediction, gases_test['C_target']))\n",
    "\n",
    "print(f'sensor_original_RMSE = {sensor_original_RMSE}')\n",
    "print(f'C_unbiased_RMSE = {C_unbiased_RMSE}')\n",
    "print(f'lin_reg_Um_RMSE = {lin_reg_Um_RMSE}')\n",
    "print(f'lasso_reg_features_RMSE = {lasso_reg_features_RMSE}')"
   ]
  },
  {
   "cell_type": "code",
   "execution_count": 41,
   "metadata": {},
   "outputs": [
    {
     "data": {
      "text/plain": [
       "Index(['t', 'Um', 'Ur', 'Ud', 'temperature', 'C_target'], dtype='object')"
      ]
     },
     "execution_count": 41,
     "metadata": {},
     "output_type": "execute_result"
    }
   ],
   "source": [
    "df_stitch_1.columns"
   ]
  },
  {
   "cell_type": "code",
   "execution_count": 42,
   "metadata": {},
   "outputs": [
    {
     "name": "stdout",
     "output_type": "stream",
     "text": [
      "579.584670242544\n"
     ]
    }
   ],
   "source": [
    "Um_corr_stitch = Um_correction(df_stitch_1)\n",
    "stitch_features = create_nonelinear_features(Um_corr_stitch, 'Um_corr')\n",
    "\n",
    "lasso_reg_stitch_prediction = lasso_reg_features.predict(stitch_features)\n",
    "print(np.sqrt(mean_squared_error(lasso_reg_stitch_prediction, df_stitch_1['C_target'])))"
   ]
  },
  {
   "cell_type": "code",
   "execution_count": 43,
   "metadata": {},
   "outputs": [
    {
     "data": {
      "text/html": [
       "<div>\n",
       "<style scoped>\n",
       "    .dataframe tbody tr th:only-of-type {\n",
       "        vertical-align: middle;\n",
       "    }\n",
       "\n",
       "    .dataframe tbody tr th {\n",
       "        vertical-align: top;\n",
       "    }\n",
       "\n",
       "    .dataframe thead th {\n",
       "        text-align: right;\n",
       "    }\n",
       "</style>\n",
       "<table border=\"1\" class=\"dataframe\">\n",
       "  <thead>\n",
       "    <tr style=\"text-align: right;\">\n",
       "      <th></th>\n",
       "      <th>C_pred_nonelinear</th>\n",
       "      <th>C_target</th>\n",
       "      <th>Ur</th>\n",
       "    </tr>\n",
       "  </thead>\n",
       "  <tbody>\n",
       "    <tr>\n",
       "      <td>0</td>\n",
       "      <td>774.281829</td>\n",
       "      <td>0.0</td>\n",
       "      <td>0.70287</td>\n",
       "    </tr>\n",
       "    <tr>\n",
       "      <td>1</td>\n",
       "      <td>825.396827</td>\n",
       "      <td>0.0</td>\n",
       "      <td>0.70305</td>\n",
       "    </tr>\n",
       "    <tr>\n",
       "      <td>2</td>\n",
       "      <td>792.259139</td>\n",
       "      <td>0.0</td>\n",
       "      <td>0.70299</td>\n",
       "    </tr>\n",
       "    <tr>\n",
       "      <td>3</td>\n",
       "      <td>927.496552</td>\n",
       "      <td>0.0</td>\n",
       "      <td>0.70329</td>\n",
       "    </tr>\n",
       "    <tr>\n",
       "      <td>4</td>\n",
       "      <td>635.442025</td>\n",
       "      <td>0.0</td>\n",
       "      <td>0.70309</td>\n",
       "    </tr>\n",
       "    <tr>\n",
       "      <td>...</td>\n",
       "      <td>...</td>\n",
       "      <td>...</td>\n",
       "      <td>...</td>\n",
       "    </tr>\n",
       "    <tr>\n",
       "      <td>1784</td>\n",
       "      <td>1625.943425</td>\n",
       "      <td>0.0</td>\n",
       "      <td>0.42593</td>\n",
       "    </tr>\n",
       "    <tr>\n",
       "      <td>1785</td>\n",
       "      <td>1537.537349</td>\n",
       "      <td>0.0</td>\n",
       "      <td>0.42612</td>\n",
       "    </tr>\n",
       "    <tr>\n",
       "      <td>1786</td>\n",
       "      <td>1525.762575</td>\n",
       "      <td>0.0</td>\n",
       "      <td>0.42604</td>\n",
       "    </tr>\n",
       "    <tr>\n",
       "      <td>1787</td>\n",
       "      <td>1411.577949</td>\n",
       "      <td>0.0</td>\n",
       "      <td>0.42621</td>\n",
       "    </tr>\n",
       "    <tr>\n",
       "      <td>1788</td>\n",
       "      <td>1672.362855</td>\n",
       "      <td>0.0</td>\n",
       "      <td>0.42626</td>\n",
       "    </tr>\n",
       "  </tbody>\n",
       "</table>\n",
       "<p>1789 rows × 3 columns</p>\n",
       "</div>"
      ],
      "text/plain": [
       "      C_pred_nonelinear  C_target       Ur\n",
       "0            774.281829       0.0  0.70287\n",
       "1            825.396827       0.0  0.70305\n",
       "2            792.259139       0.0  0.70299\n",
       "3            927.496552       0.0  0.70329\n",
       "4            635.442025       0.0  0.70309\n",
       "...                 ...       ...      ...\n",
       "1784        1625.943425       0.0  0.42593\n",
       "1785        1537.537349       0.0  0.42612\n",
       "1786        1525.762575       0.0  0.42604\n",
       "1787        1411.577949       0.0  0.42621\n",
       "1788        1672.362855       0.0  0.42626\n",
       "\n",
       "[1789 rows x 3 columns]"
      ]
     },
     "execution_count": 43,
     "metadata": {},
     "output_type": "execute_result"
    }
   ],
   "source": [
    "overview_stitch = pd.DataFrame({'C_pred_nonelinear': lasso_reg_stitch_prediction, 'C_target': df_stitch_1['C_target'], 'Ur': df_stitch_1['Ur']},\n",
    "                             columns=[ 'C_pred_nonelinear', 'C_target', 'Ur'])\n",
    "overview_stitch"
   ]
  },
  {
   "cell_type": "code",
   "execution_count": 63,
   "metadata": {
    "scrolled": true
   },
   "outputs": [
    {
     "data": {
      "text/html": [
       "<div>\n",
       "<style scoped>\n",
       "    .dataframe tbody tr th:only-of-type {\n",
       "        vertical-align: middle;\n",
       "    }\n",
       "\n",
       "    .dataframe tbody tr th {\n",
       "        vertical-align: top;\n",
       "    }\n",
       "\n",
       "    .dataframe thead th {\n",
       "        text-align: right;\n",
       "    }\n",
       "</style>\n",
       "<table border=\"1\" class=\"dataframe\">\n",
       "  <thead>\n",
       "    <tr style=\"text-align: right;\">\n",
       "      <th></th>\n",
       "      <th>C_pred_nonelinear</th>\n",
       "      <th>C_target</th>\n",
       "      <th>Ur</th>\n",
       "    </tr>\n",
       "  </thead>\n",
       "  <tbody>\n",
       "    <tr>\n",
       "      <td>500</td>\n",
       "      <td>9.989452</td>\n",
       "      <td>0.0</td>\n",
       "      <td>0.88737</td>\n",
       "    </tr>\n",
       "    <tr>\n",
       "      <td>501</td>\n",
       "      <td>53.258966</td>\n",
       "      <td>0.0</td>\n",
       "      <td>0.88742</td>\n",
       "    </tr>\n",
       "    <tr>\n",
       "      <td>502</td>\n",
       "      <td>123.015082</td>\n",
       "      <td>0.0</td>\n",
       "      <td>0.88771</td>\n",
       "    </tr>\n",
       "    <tr>\n",
       "      <td>503</td>\n",
       "      <td>107.037567</td>\n",
       "      <td>0.0</td>\n",
       "      <td>0.88782</td>\n",
       "    </tr>\n",
       "    <tr>\n",
       "      <td>504</td>\n",
       "      <td>68.360522</td>\n",
       "      <td>0.0</td>\n",
       "      <td>0.88794</td>\n",
       "    </tr>\n",
       "    <tr>\n",
       "      <td>505</td>\n",
       "      <td>111.004837</td>\n",
       "      <td>0.0</td>\n",
       "      <td>0.88821</td>\n",
       "    </tr>\n",
       "    <tr>\n",
       "      <td>506</td>\n",
       "      <td>3.652203</td>\n",
       "      <td>0.0</td>\n",
       "      <td>0.88831</td>\n",
       "    </tr>\n",
       "    <tr>\n",
       "      <td>507</td>\n",
       "      <td>99.199711</td>\n",
       "      <td>0.0</td>\n",
       "      <td>0.88853</td>\n",
       "    </tr>\n",
       "    <tr>\n",
       "      <td>508</td>\n",
       "      <td>80.432026</td>\n",
       "      <td>0.0</td>\n",
       "      <td>0.88872</td>\n",
       "    </tr>\n",
       "    <tr>\n",
       "      <td>509</td>\n",
       "      <td>15.730561</td>\n",
       "      <td>0.0</td>\n",
       "      <td>0.88873</td>\n",
       "    </tr>\n",
       "    <tr>\n",
       "      <td>510</td>\n",
       "      <td>91.371999</td>\n",
       "      <td>0.0</td>\n",
       "      <td>0.88921</td>\n",
       "    </tr>\n",
       "  </tbody>\n",
       "</table>\n",
       "</div>"
      ],
      "text/plain": [
       "     C_pred_nonelinear  C_target       Ur\n",
       "500           9.989452       0.0  0.88737\n",
       "501          53.258966       0.0  0.88742\n",
       "502         123.015082       0.0  0.88771\n",
       "503         107.037567       0.0  0.88782\n",
       "504          68.360522       0.0  0.88794\n",
       "505         111.004837       0.0  0.88821\n",
       "506           3.652203       0.0  0.88831\n",
       "507          99.199711       0.0  0.88853\n",
       "508          80.432026       0.0  0.88872\n",
       "509          15.730561       0.0  0.88873\n",
       "510          91.371999       0.0  0.88921"
      ]
     },
     "execution_count": 63,
     "metadata": {},
     "output_type": "execute_result"
    }
   ],
   "source": [
    "overview_stitch.loc[500:510]"
   ]
  },
  {
   "cell_type": "code",
   "execution_count": 62,
   "metadata": {
    "scrolled": true
   },
   "outputs": [
    {
     "data": {
      "text/html": [
       "<div>\n",
       "<style scoped>\n",
       "    .dataframe tbody tr th:only-of-type {\n",
       "        vertical-align: middle;\n",
       "    }\n",
       "\n",
       "    .dataframe tbody tr th {\n",
       "        vertical-align: top;\n",
       "    }\n",
       "\n",
       "    .dataframe thead th {\n",
       "        text-align: right;\n",
       "    }\n",
       "</style>\n",
       "<table border=\"1\" class=\"dataframe\">\n",
       "  <thead>\n",
       "    <tr style=\"text-align: right;\">\n",
       "      <th></th>\n",
       "      <th>C_pred_nonelinear</th>\n",
       "      <th>C_target</th>\n",
       "      <th>Ur</th>\n",
       "    </tr>\n",
       "  </thead>\n",
       "  <tbody>\n",
       "    <tr>\n",
       "      <td>1000</td>\n",
       "      <td>166.777458</td>\n",
       "      <td>0.0</td>\n",
       "      <td>0.58846</td>\n",
       "    </tr>\n",
       "    <tr>\n",
       "      <td>1001</td>\n",
       "      <td>24.418211</td>\n",
       "      <td>0.0</td>\n",
       "      <td>0.58755</td>\n",
       "    </tr>\n",
       "    <tr>\n",
       "      <td>1002</td>\n",
       "      <td>31.244989</td>\n",
       "      <td>0.0</td>\n",
       "      <td>0.58700</td>\n",
       "    </tr>\n",
       "    <tr>\n",
       "      <td>1003</td>\n",
       "      <td>47.690382</td>\n",
       "      <td>0.0</td>\n",
       "      <td>0.58644</td>\n",
       "    </tr>\n",
       "    <tr>\n",
       "      <td>1004</td>\n",
       "      <td>104.596239</td>\n",
       "      <td>0.0</td>\n",
       "      <td>0.58590</td>\n",
       "    </tr>\n",
       "    <tr>\n",
       "      <td>1005</td>\n",
       "      <td>104.652775</td>\n",
       "      <td>0.0</td>\n",
       "      <td>0.58516</td>\n",
       "    </tr>\n",
       "    <tr>\n",
       "      <td>1006</td>\n",
       "      <td>-37.166153</td>\n",
       "      <td>0.0</td>\n",
       "      <td>0.58459</td>\n",
       "    </tr>\n",
       "    <tr>\n",
       "      <td>1007</td>\n",
       "      <td>87.707907</td>\n",
       "      <td>0.0</td>\n",
       "      <td>0.58396</td>\n",
       "    </tr>\n",
       "    <tr>\n",
       "      <td>1008</td>\n",
       "      <td>63.805587</td>\n",
       "      <td>0.0</td>\n",
       "      <td>0.58310</td>\n",
       "    </tr>\n",
       "    <tr>\n",
       "      <td>1009</td>\n",
       "      <td>188.271504</td>\n",
       "      <td>0.0</td>\n",
       "      <td>0.58269</td>\n",
       "    </tr>\n",
       "    <tr>\n",
       "      <td>1010</td>\n",
       "      <td>182.408039</td>\n",
       "      <td>0.0</td>\n",
       "      <td>0.58189</td>\n",
       "    </tr>\n",
       "  </tbody>\n",
       "</table>\n",
       "</div>"
      ],
      "text/plain": [
       "      C_pred_nonelinear  C_target       Ur\n",
       "1000         166.777458       0.0  0.58846\n",
       "1001          24.418211       0.0  0.58755\n",
       "1002          31.244989       0.0  0.58700\n",
       "1003          47.690382       0.0  0.58644\n",
       "1004         104.596239       0.0  0.58590\n",
       "1005         104.652775       0.0  0.58516\n",
       "1006         -37.166153       0.0  0.58459\n",
       "1007          87.707907       0.0  0.58396\n",
       "1008          63.805587       0.0  0.58310\n",
       "1009         188.271504       0.0  0.58269\n",
       "1010         182.408039       0.0  0.58189"
      ]
     },
     "execution_count": 62,
     "metadata": {},
     "output_type": "execute_result"
    }
   ],
   "source": [
    "overview_stitch.loc[1000:1010]"
   ]
  },
  {
   "cell_type": "code",
   "execution_count": 64,
   "metadata": {},
   "outputs": [
    {
     "data": {
      "text/html": [
       "<div>\n",
       "<style scoped>\n",
       "    .dataframe tbody tr th:only-of-type {\n",
       "        vertical-align: middle;\n",
       "    }\n",
       "\n",
       "    .dataframe tbody tr th {\n",
       "        vertical-align: top;\n",
       "    }\n",
       "\n",
       "    .dataframe thead th {\n",
       "        text-align: right;\n",
       "    }\n",
       "</style>\n",
       "<table border=\"1\" class=\"dataframe\">\n",
       "  <thead>\n",
       "    <tr style=\"text-align: right;\">\n",
       "      <th></th>\n",
       "      <th>C_pred_nonelinear</th>\n",
       "      <th>C_target</th>\n",
       "      <th>Ur</th>\n",
       "    </tr>\n",
       "  </thead>\n",
       "  <tbody>\n",
       "    <tr>\n",
       "      <td>count</td>\n",
       "      <td>1789.000000</td>\n",
       "      <td>1789.0</td>\n",
       "      <td>1789.000000</td>\n",
       "    </tr>\n",
       "    <tr>\n",
       "      <td>mean</td>\n",
       "      <td>164.349149</td>\n",
       "      <td>0.0</td>\n",
       "      <td>0.651778</td>\n",
       "    </tr>\n",
       "    <tr>\n",
       "      <td>std</td>\n",
       "      <td>555.950101</td>\n",
       "      <td>0.0</td>\n",
       "      <td>0.176402</td>\n",
       "    </tr>\n",
       "    <tr>\n",
       "      <td>min</td>\n",
       "      <td>-999.350352</td>\n",
       "      <td>0.0</td>\n",
       "      <td>0.425880</td>\n",
       "    </tr>\n",
       "    <tr>\n",
       "      <td>25%</td>\n",
       "      <td>-88.936692</td>\n",
       "      <td>0.0</td>\n",
       "      <td>0.460090</td>\n",
       "    </tr>\n",
       "    <tr>\n",
       "      <td>50%</td>\n",
       "      <td>139.031848</td>\n",
       "      <td>0.0</td>\n",
       "      <td>0.703270</td>\n",
       "    </tr>\n",
       "    <tr>\n",
       "      <td>75%</td>\n",
       "      <td>557.841186</td>\n",
       "      <td>0.0</td>\n",
       "      <td>0.831490</td>\n",
       "    </tr>\n",
       "    <tr>\n",
       "      <td>max</td>\n",
       "      <td>1800.583522</td>\n",
       "      <td>0.0</td>\n",
       "      <td>0.901820</td>\n",
       "    </tr>\n",
       "  </tbody>\n",
       "</table>\n",
       "</div>"
      ],
      "text/plain": [
       "       C_pred_nonelinear  C_target           Ur\n",
       "count        1789.000000    1789.0  1789.000000\n",
       "mean          164.349149       0.0     0.651778\n",
       "std           555.950101       0.0     0.176402\n",
       "min          -999.350352       0.0     0.425880\n",
       "25%           -88.936692       0.0     0.460090\n",
       "50%           139.031848       0.0     0.703270\n",
       "75%           557.841186       0.0     0.831490\n",
       "max          1800.583522       0.0     0.901820"
      ]
     },
     "execution_count": 64,
     "metadata": {},
     "output_type": "execute_result"
    }
   ],
   "source": [
    "overview_stitch.describe()"
   ]
  }
 ],
 "metadata": {
  "kernelspec": {
   "display_name": "Python 3",
   "language": "python",
   "name": "python3"
  },
  "language_info": {
   "codemirror_mode": {
    "name": "ipython",
    "version": 3
   },
   "file_extension": ".py",
   "mimetype": "text/x-python",
   "name": "python",
   "nbconvert_exporter": "python",
   "pygments_lexer": "ipython3",
   "version": "3.7.4"
  }
 },
 "nbformat": 4,
 "nbformat_minor": 2
}
