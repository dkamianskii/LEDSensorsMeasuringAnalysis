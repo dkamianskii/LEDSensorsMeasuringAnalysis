{
 "cells": [
  {
   "cell_type": "code",
   "execution_count": 1,
   "metadata": {},
   "outputs": [],
   "source": [
    "import numpy as np\n",
    "import pandas as pd\n",
    "from sklearn.model_selection import train_test_split"
   ]
  },
  {
   "cell_type": "code",
   "execution_count": 20,
   "metadata": {},
   "outputs": [],
   "source": [
    "df_stitch_1 = pd.read_pickle(\"./data_stitch_1.pkl\")\n",
    "df_stitch_2 = pd.read_pickle(\"./data_stitch_2.pkl\")\n",
    "df_gases_1 = pd.read_pickle(\"./data_gases_1_filtered.pkl\")\n",
    "df_gases_2 = pd.read_pickle(\"./data_gases_2_filtered.pkl\")\n",
    "df_all_night = pd.read_pickle(\"./data_all_night.pkl\")"
   ]
  },
  {
   "cell_type": "code",
   "execution_count": 22,
   "metadata": {
    "scrolled": true
   },
   "outputs": [
    {
     "name": "stdout",
     "output_type": "stream",
     "text": [
      "1789\n",
      "1588\n",
      "2270\n",
      "2036\n",
      "11326\n"
     ]
    }
   ],
   "source": [
    "print(df_stitch_1.shape[0])\n",
    "print(df_stitch_2.shape[0])\n",
    "print(df_gases_1.shape[0])\n",
    "print(df_gases_2.shape[0])\n",
    "print(df_all_night.shape[0])"
   ]
  },
  {
   "cell_type": "code",
   "execution_count": 4,
   "metadata": {
    "scrolled": true
   },
   "outputs": [
    {
     "name": "stdout",
     "output_type": "stream",
     "text": [
      "Index(['Um', 'Ur', 'Ud', 'C_target'], dtype='object')\n",
      "Index(['Um', 'Ur', 'Ud', 'C_target'], dtype='object')\n",
      "Index(['C', 'Um', 'Ur', 'Ud', 'C_target'], dtype='object')\n",
      "Index(['C', 'Um', 'Ur', 'Ud', 'C_target'], dtype='object')\n",
      "Index(['C', 'Um', 'Ur', 'Ud', 'C_target'], dtype='object')\n"
     ]
    }
   ],
   "source": [
    "print(df_stitch_1.columns)\n",
    "print(df_stitch_2.columns)\n",
    "print(df_gases_1.columns)\n",
    "print(df_gases_2.columns)\n",
    "print(df_all_night.columns)"
   ]
  },
  {
   "cell_type": "code",
   "execution_count": 21,
   "metadata": {
    "scrolled": true
   },
   "outputs": [
    {
     "name": "stderr",
     "output_type": "stream",
     "text": [
      "D:\\Anaconda\\lib\\site-packages\\pandas\\core\\frame.py:4102: SettingWithCopyWarning: \n",
      "A value is trying to be set on a copy of a slice from a DataFrame\n",
      "\n",
      "See the caveats in the documentation: http://pandas.pydata.org/pandas-docs/stable/user_guide/indexing.html#returning-a-view-versus-a-copy\n",
      "  errors=errors,\n"
     ]
    }
   ],
   "source": [
    "df_stitch = pd.concat([df_stitch_2, df_stitch_1])\n",
    "df_stitch_train, df_stitch_test = train_test_split(df_stitch, test_size=0.1, random_state=42)\n",
    "df_gases_2_train, df_gases_2_test = train_test_split(df_gases_2, test_size=0.25, random_state=42)\n",
    "df_gases_train = pd.concat([df_gases_2_train, df_gases_1])\n",
    "df_gases_train.drop(labels='C', axis='columns', inplace=True)\n",
    "df_all_night_sample = df_all_night.sample(800)\n",
    "df_all_night_train, df_all_night_test = train_test_split(df_all_night_sample, test_size=0.2, random_state=42)\n",
    "df_all_night_train.drop(labels='C', axis='columns', inplace=True)"
   ]
  },
  {
   "cell_type": "code",
   "execution_count": 16,
   "metadata": {},
   "outputs": [
    {
     "data": {
      "text/html": [
       "<div>\n",
       "<style scoped>\n",
       "    .dataframe tbody tr th:only-of-type {\n",
       "        vertical-align: middle;\n",
       "    }\n",
       "\n",
       "    .dataframe tbody tr th {\n",
       "        vertical-align: top;\n",
       "    }\n",
       "\n",
       "    .dataframe thead th {\n",
       "        text-align: right;\n",
       "    }\n",
       "</style>\n",
       "<table border=\"1\" class=\"dataframe\">\n",
       "  <thead>\n",
       "    <tr style=\"text-align: right;\">\n",
       "      <th></th>\n",
       "      <th>Um</th>\n",
       "      <th>Ur</th>\n",
       "      <th>Ud</th>\n",
       "      <th>C_target</th>\n",
       "    </tr>\n",
       "  </thead>\n",
       "  <tbody>\n",
       "    <tr>\n",
       "      <td>1675</td>\n",
       "      <td>0.5069</td>\n",
       "      <td>0.43139</td>\n",
       "      <td>0.73473</td>\n",
       "      <td>0.0</td>\n",
       "    </tr>\n",
       "  </tbody>\n",
       "</table>\n",
       "</div>"
      ],
      "text/plain": [
       "          Um       Ur       Ud  C_target\n",
       "1675  0.5069  0.43139  0.73473       0.0"
      ]
     },
     "execution_count": 16,
     "metadata": {},
     "output_type": "execute_result"
    }
   ],
   "source": [
    "df_stitch_test.head(1)"
   ]
  },
  {
   "cell_type": "code",
   "execution_count": 23,
   "metadata": {},
   "outputs": [],
   "source": [
    "df_stitch_train.to_pickle(f\"./data_stitch_train.pkl\")\n",
    "df_stitch_test.to_pickle(f\"./data_stitch_test.pkl\")\n",
    "df_gases_train.to_pickle(f\"./data_gases_train.pkl\")\n",
    "df_gases_2_test.to_pickle(f\"./data_gases_test.pkl\")\n",
    "df_all_night_train.to_pickle(f\"./data_all_night_train.pkl\")\n",
    "df_all_night_test.to_pickle(f\"./data_all_night_test.pkl\")"
   ]
  }
 ],
 "metadata": {
  "kernelspec": {
   "display_name": "Python 3",
   "language": "python",
   "name": "python3"
  },
  "language_info": {
   "codemirror_mode": {
    "name": "ipython",
    "version": 3
   },
   "file_extension": ".py",
   "mimetype": "text/x-python",
   "name": "python",
   "nbconvert_exporter": "python",
   "pygments_lexer": "ipython3",
   "version": "3.7.4"
  }
 },
 "nbformat": 4,
 "nbformat_minor": 2
}
